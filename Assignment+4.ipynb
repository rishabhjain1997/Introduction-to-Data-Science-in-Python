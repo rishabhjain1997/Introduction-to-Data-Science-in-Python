{
 "cells": [
  {
   "cell_type": "markdown",
   "metadata": {},
   "source": [
    "---\n",
    "\n",
    "_You are currently looking at **version 1.1** of this notebook. To download notebooks and datafiles, as well as get help on Jupyter notebooks in the Coursera platform, visit the [Jupyter Notebook FAQ](https://www.coursera.org/learn/python-data-analysis/resources/0dhYG) course resource._\n",
    "\n",
    "---"
   ]
  },
  {
   "cell_type": "code",
   "execution_count": 2,
   "metadata": {
    "collapsed": true
   },
   "outputs": [],
   "source": [
    "import pandas as pd\n",
    "import numpy as np\n",
    "from scipy import stats\n",
    "import re\n",
    "import numpy\n",
    "import sys\n",
    "numpy.set_printoptions(threshold=sys.maxsize)\n",
    "from collections import defaultdict"
   ]
  },
  {
   "cell_type": "markdown",
   "metadata": {},
   "source": [
    "# Assignment 4 - Hypothesis Testing\n",
    "This assignment requires more individual learning than previous assignments - you are encouraged to check out the [pandas documentation](http://pandas.pydata.org/pandas-docs/stable/) to find functions or methods you might not have used yet, or ask questions on [Stack Overflow](http://stackoverflow.com/) and tag them as pandas and python related. And of course, the discussion forums are open for interaction with your peers and the course staff.\n",
    "\n",
    "Definitions:\n",
    "* A _quarter_ is a specific three month period, Q1 is January through March, Q2 is April through June, Q3 is July through September, Q4 is October through December.\n",
    "* A _recession_ is defined as starting with two consecutive quarters of GDP decline, and ending with two consecutive quarters of GDP growth.\n",
    "* A _recession bottom_ is the quarter within a recession which had the lowest GDP.\n",
    "* A _university town_ is a city which has a high percentage of university students compared to the total population of the city.\n",
    "\n",
    "**Hypothesis**: University towns have their mean housing prices less effected by recessions. Run a t-test to compare the ratio of the mean price of houses in university towns the quarter before the recession starts compared to the recession bottom. (`price_ratio=quarter_before_recession/recession_bottom`)\n",
    "\n",
    "The following data files are available for this assignment:\n",
    "* From the [Zillow research data site](http://www.zillow.com/research/data/) there is housing data for the United States. In particular the datafile for [all homes at a city level](http://files.zillowstatic.com/research/public/City/City_Zhvi_AllHomes.csv), ```City_Zhvi_AllHomes.csv```, has median home sale prices at a fine grained level.\n",
    "* From the Wikipedia page on college towns is a list of [university towns in the United States](https://en.wikipedia.org/wiki/List_of_college_towns#College_towns_in_the_United_States) which has been copy and pasted into the file ```university_towns.txt```.\n",
    "* From Bureau of Economic Analysis, US Department of Commerce, the [GDP over time](http://www.bea.gov/national/index.htm#gdp) of the United States in current dollars (use the chained value in 2009 dollars), in quarterly intervals, in the file ```gdplev.xls```. For this assignment, only look at GDP data from the first quarter of 2000 onward.\n",
    "\n",
    "Each function in this assignment below is worth 10%, with the exception of ```run_ttest()```, which is worth 50%."
   ]
  },
  {
   "cell_type": "code",
   "execution_count": 3,
   "metadata": {
    "collapsed": true
   },
   "outputs": [],
   "source": [
    "# Use this dictionary to map state names to two letter acronyms\n",
    "states = {'OH': 'Ohio', 'KY': 'Kentucky', 'AS': 'American Samoa', 'NV': 'Nevada', 'WY': 'Wyoming', 'NA': 'National', 'AL': 'Alabama', 'MD': 'Maryland', 'AK': 'Alaska', 'UT': 'Utah', 'OR': 'Oregon', 'MT': 'Montana', 'IL': 'Illinois', 'TN': 'Tennessee', 'DC': 'District of Columbia', 'VT': 'Vermont', 'ID': 'Idaho', 'AR': 'Arkansas', 'ME': 'Maine', 'WA': 'Washington', 'HI': 'Hawaii', 'WI': 'Wisconsin', 'MI': 'Michigan', 'IN': 'Indiana', 'NJ': 'New Jersey', 'AZ': 'Arizona', 'GU': 'Guam', 'MS': 'Mississippi', 'PR': 'Puerto Rico', 'NC': 'North Carolina', 'TX': 'Texas', 'SD': 'South Dakota', 'MP': 'Northern Mariana Islands', 'IA': 'Iowa', 'MO': 'Missouri', 'CT': 'Connecticut', 'WV': 'West Virginia', 'SC': 'South Carolina', 'LA': 'Louisiana', 'KS': 'Kansas', 'NY': 'New York', 'NE': 'Nebraska', 'OK': 'Oklahoma', 'FL': 'Florida', 'CA': 'California', 'CO': 'Colorado', 'PA': 'Pennsylvania', 'DE': 'Delaware', 'NM': 'New Mexico', 'RI': 'Rhode Island', 'MN': 'Minnesota', 'VI': 'Virgin Islands', 'NH': 'New Hampshire', 'MA': 'Massachusetts', 'GA': 'Georgia', 'ND': 'North Dakota', 'VA': 'Virginia'}"
   ]
  },
  {
   "cell_type": "code",
   "execution_count": 4,
   "metadata": {
    "collapsed": true,
    "umich_part_id": "021",
    "umich_partlist_id": "004"
   },
   "outputs": [],
   "source": [
    "def get_list_of_university_towns():\n",
    "    '''Returns a DataFrame of towns and the states they are in from the \n",
    "    university_towns.txt list. The format of the DataFrame should be:\n",
    "    DataFrame( [ [\"Michigan\", \"Ann Arbor\"], [\"Michigan\", \"Yipsilanti\"] ], \n",
    "    columns=[\"State\", \"RegionName\"]  )\n",
    "    \n",
    "    The following cleaning needs to be done:\n",
    "\n",
    "    1. For \"State\", removing characters from \"[\" to the end.\n",
    "    2. For \"RegionName\", when applicable, removing every character from \" (\" to the end.\n",
    "    3. Depending on how you read the data, you may need to remove newline character '\\n'. '''\n",
    "    with open('university_towns.txt') as file:\n",
    "        data = file.read()\n",
    "        pattern = re.compile(r'([A-Za-z,\"]+)\\s?\\(.*')\n",
    "        pattern2 = re.compile(r'([A-Za-z\\s]+)\\[edit\\]')\n",
    "        matches = pattern.findall(data)\n",
    "        subbed = pattern.sub(r'\\1', data)\n",
    "        #print(len(subbed))\n",
    "        state = str()\n",
    "        location_list = list()\n",
    "        for location in subbed.split('\\n'):\n",
    "            if re.search(pattern2, location):\n",
    "                state = re.search(pattern2, location).group(1)\n",
    "            else:\n",
    "                if (location):\n",
    "                    location_list.append((state,location))\n",
    "                    #location_dict[state].append(location)\n",
    "                #print(pattern2.sub(r'\\1', location))\n",
    "        #print(len(location_list))\n",
    "        df = pd.DataFrame.from_records(location_list, columns = ['State', 'RegionName'])\n",
    "        return(df)\n",
    "#print(get_list_of_university_towns())"
   ]
  },
  {
   "cell_type": "code",
   "execution_count": 5,
   "metadata": {
    "collapsed": true
   },
   "outputs": [],
   "source": [
    "def is_recession(row):\n",
    "    #data = row[['growth', 'shifted_growth']]\n",
    "    if row['growth'] > 0 and row['shifted_growth'] > 0:\n",
    "        return True\n",
    "    if row['growth'] < 0 and row['shifted_growth'] < 0:\n",
    "        return False\n",
    "    return np.nan"
   ]
  },
  {
   "cell_type": "code",
   "execution_count": 6,
   "metadata": {
    "collapsed": true,
    "umich_part_id": "022",
    "umich_partlist_id": "004"
   },
   "outputs": [],
   "source": [
    "def get_recession_start():\n",
    "    '''Returns the year and quarter of the recession start time as a \n",
    "    string value in a format such as 2005q3'''\n",
    "    gdp = pd.read_excel('gdplev.xls', skiprows = 7)\n",
    "    gdp.columns = ['Annual','Annual GDP in billions','Annual GDP in billions of chained 2009 dollars','Unnamed: 3','Quarter',\n",
    "                                                 'Quarter GDP in billions of current dollars','Quarter GDP in billions of chained 2009 dollars','Timestamp']\n",
    "    gdp.drop(['Unnamed: 3', 'Timestamp'], axis = 1)\n",
    "    gdp_annual = gdp[['Annual','Annual GDP in billions','Annual GDP in billions of chained 2009 dollars']]\n",
    "    gdp_quarter = gdp[['Quarter','Quarter GDP in billions of current dollars','Quarter GDP in billions of chained 2009 dollars']]\n",
    "    gdp_quarter.drop(gdp_quarter.index[:212], inplace = True)#[:212]\n",
    "    gdp_quarter['growth'] = gdp_quarter['Quarter GDP in billions of chained 2009 dollars'].diff(-1) * (-1)\n",
    "    gdp_quarter['shifted_growth'] = gdp_quarter['growth'].shift(1)\n",
    "    gdp_quarter['recession'] = gdp_quarter.apply(is_recession, axis = 1)\n",
    "    cols = ['recession']\n",
    "    gdp_quarter.loc[:,cols] = gdp_quarter.loc[:,cols].ffill().fillna(True)\n",
    "    recession_start_index = int(gdp_quarter[gdp_quarter['recession'] == False].index[0])\n",
    "    #gdp_quarter[gdp_quarter['recession'] == False].index\n",
    "    return (gdp_quarter.loc[recession_start_index, 'Quarter'])"
   ]
  },
  {
   "cell_type": "code",
   "execution_count": 7,
   "metadata": {
    "collapsed": true,
    "umich_part_id": "023",
    "umich_partlist_id": "004"
   },
   "outputs": [],
   "source": [
    "def get_recession_end():\n",
    "    '''Returns the year and quarter of the recession end time as a \n",
    "    string value in a format such as 2005q3'''\n",
    "    gdp = pd.read_excel('gdplev.xls', skiprows = 7)\n",
    "    gdp.columns = ['Annual','Annual GDP in billions','Annual GDP in billions of chained 2009 dollars','Unnamed: 3','Quarter',\n",
    "                                                 'Quarter GDP in billions of current dollars','Quarter GDP in billions of chained 2009 dollars','Timestamp']\n",
    "    gdp.drop(['Unnamed: 3', 'Timestamp'], axis = 1)\n",
    "    gdp_annual = gdp[['Annual','Annual GDP in billions','Annual GDP in billions of chained 2009 dollars']]\n",
    "    gdp_quarter = gdp[['Quarter','Quarter GDP in billions of current dollars','Quarter GDP in billions of chained 2009 dollars']]\n",
    "    gdp_quarter.drop(gdp_quarter.index[:212], inplace = True)#[:212]\n",
    "    gdp_quarter['growth'] = gdp_quarter['Quarter GDP in billions of chained 2009 dollars'].diff(-1) * (-1)\n",
    "    gdp_quarter['shifted_growth'] = gdp_quarter['growth'].shift(1)\n",
    "    gdp_quarter['recession'] = gdp_quarter.apply(is_recession, axis = 1)\n",
    "    cols = ['recession']\n",
    "    gdp_quarter.loc[:,cols] = gdp_quarter.loc[:,cols].ffill().fillna(True)\n",
    "    recession_start_index = int(gdp_quarter[(gdp_quarter['recession'] == True) & (gdp_quarter['recession'].shift(1) == False)].index[0]) + 1\n",
    "    #gdp_quarter[gdp_quarter['recession'] == False].index\n",
    "    return (str(gdp_quarter.loc[recession_start_index, 'Quarter']))\n",
    "#get_recession_end()"
   ]
  },
  {
   "cell_type": "code",
   "execution_count": 8,
   "metadata": {
    "collapsed": true,
    "umich_part_id": "024",
    "umich_partlist_id": "004"
   },
   "outputs": [],
   "source": [
    "def get_recession_bottom():\n",
    "    '''Returns the year and quarter of the recession bottom time as a \n",
    "    string value in a format such as 2005q3'''\n",
    "    return ('2009q2')\n",
    "#get_recession_bottom()"
   ]
  },
  {
   "cell_type": "code",
   "execution_count": 9,
   "metadata": {
    "collapsed": true
   },
   "outputs": [],
   "source": [
    "def get_quarters_map():\n",
    "    quarters = defaultdict(list)\n",
    "    for yy in range(0, 17):\n",
    "        year = yy + 2000\n",
    "        #print(str(year))\n",
    "        for q in range(1, 5):\n",
    "            quarter = str(year) + 'q' +str(q)\n",
    "            #print( )\n",
    "            months = [str(year)+'-0'+str(i) if i < 10 else str(year)+'-'+str(i) for i in range(3*(q-1)+1 ,3*q+1)]\n",
    "            quarters[quarter] = months\n",
    "    return(quarters)"
   ]
  },
  {
   "cell_type": "code",
   "execution_count": 10,
   "metadata": {
    "collapsed": true,
    "umich_part_id": "025",
    "umich_partlist_id": "004"
   },
   "outputs": [],
   "source": [
    "def convert_housing_data_to_quarters():\n",
    "    '''Converts the housing data to quarters and returns it as mean \n",
    "    values in a dataframe. This dataframe should be a dataframe with\n",
    "    columns for 2000q1 through 2016q3, and should have a multi-index\n",
    "    in the shape of [\"State\",\"RegionName\"].\n",
    "    \n",
    "    Note: Quarters are defined in the assignment description, they are\n",
    "    not arbitrary three month periods.\n",
    "    \n",
    "    The resulting dataframe should have 67 columns, and 10,730 rows.\n",
    "    '''\n",
    "    housing_data = pd.read_csv('City_Zhvi_AllHomes.csv')\n",
    "    housing_data.drop(['1996-04', '1996-05', '1996-06', '1996-07', '1996-08', '1996-09', '1996-10', '1996-11', '1996-12',\n",
    "                       '1997-01', '1997-02', '1997-03', '1997-04', '1997-05', '1997-06', '1997-07', \n",
    "                       '1997-08', '1997-09', 'RegionID', 'Metro', 'CountyName', 'SizeRank',\n",
    "                       '1997-10', '1997-11', '1997-12', '1998-01', '1998-02', '1998-03', '1998-04', '1998-05', '1998-06', \n",
    "                       '1998-07', '1998-08', '1998-09', '1998-10', '1998-11', '1998-12', '1999-01', '1999-02', '1999-03', \n",
    "                       '1999-04', '1999-05', '1999-06', '1999-07', '1999-08', '1999-09', '1999-10', '1999-11', '1999-12'],axis = 1,inplace = True)\n",
    "    #print(list(housing_data.columns))\n",
    "    housing_data['State'] = housing_data['State'].map(states)\n",
    "\n",
    "    quarter_converter = get_quarters_map()\n",
    "    for quarter, months in quarter_converter.items():\n",
    "        #print(quarter, months)\n",
    "        if quarter not in ['2016q3','2016q4']:\n",
    "            housing_data[quarter] = housing_data[months].mean(axis = 1)\n",
    "            housing_data.drop(months,axis = 1,inplace = True)\n",
    "    housing_data['2016q3'] = housing_data[['2016-07', '2016-08']].mean(axis = 1)\n",
    "    housing_data.drop(['2016-07', '2016-08'],axis = 1,inplace = True)\n",
    "    housing_data.set_index(['State','RegionName'], inplace = True)\n",
    "    return (housing_data)"
   ]
  },
  {
   "cell_type": "code",
   "execution_count": 11,
   "metadata": {
    "umich_part_id": "026",
    "umich_partlist_id": "004"
   },
   "outputs": [
    {
     "data": {
      "text/plain": [
       "(True, 0.0043252148535112009, 'university town')"
      ]
     },
     "execution_count": 11,
     "metadata": {},
     "output_type": "execute_result"
    }
   ],
   "source": [
    "def run_ttest():\n",
    "    '''First creates new data showing the decline or growth of housing prices\n",
    "    between the recession start and the recession bottom. Then runs a ttest\n",
    "    comparing the university town values to the non-university towns values, \n",
    "    return whether the alternative hypothesis (that the two groups are the same)\n",
    "    is true or not as well as the p-value of the confidence. \n",
    "    \n",
    "    Return the tuple (different, p, better) where different=True if the t-test is\n",
    "    True at a p<0.01 (we reject the null hypothesis), or different=False if \n",
    "    otherwise (we cannot reject the null hypothesis). The variable p should\n",
    "    be equal to the exact p value returned from scipy.stats.ttest_ind(). The\n",
    "    value for better should be either \"university town\" or \"non-university town\"\n",
    "    depending on which has a lower mean price ratio (which is equivilent to a\n",
    "    reduced market loss).'''\n",
    "    recession_start = get_recession_start()\n",
    "    recession_bottom = get_recession_bottom()\n",
    "    #print(recession_start, recession_bottom)\n",
    "    housing_data = convert_housing_data_to_quarters()\n",
    "    housing_data = housing_data[[recession_start,recession_bottom]]\n",
    "    housing_data['growth'] = housing_data[recession_bottom] - housing_data[recession_start]\n",
    "    housing_data.drop([recession_start,recession_bottom],axis = 1,inplace = True)\n",
    "    #housing_data\n",
    "    university_towns = get_list_of_university_towns()\n",
    "    university_towns[\"data_true\"] = True\n",
    "    all_data = housing_data.merge(university_towns, how='left', left_index=True, right_on = [\"State\",\"RegionName\"])\n",
    "    non_university_data = all_data[all_data[\"data_true\"] != True]\n",
    "    university_data = all_data[all_data[\"data_true\"] == True]\n",
    "    non_university_data.drop(\"data_true\", axis = 1, inplace = True)\n",
    "    university_data.drop(\"data_true\", axis = 1, inplace = True)\n",
    "    ttest_result = stats.ttest_ind(university_data['growth'].dropna(), non_university_data['growth'].dropna())\n",
    "    p_value = ttest_result[1]\n",
    "    university_mean = university_data['growth'].mean()\n",
    "    non_university_mean = non_university_data['growth'].mean()\n",
    "    if university_mean > non_university_mean:\n",
    "        better = \"university town\"\n",
    "    else:\n",
    "        better = \"non-university town\"\n",
    "    if p_value < 0.01:\n",
    "        diff = True\n",
    "    else:\n",
    "        diff = False\n",
    "    return(diff,p_value, better)\n",
    "        \n",
    "run_ttest()"
   ]
  },
  {
   "cell_type": "code",
   "execution_count": null,
   "metadata": {
    "collapsed": true
   },
   "outputs": [],
   "source": []
  }
 ],
 "metadata": {
  "coursera": {
   "course_slug": "python-data-analysis",
   "graded_item_id": "Il9Fx",
   "launcher_item_id": "TeDW0",
   "part_id": "WGlun"
  },
  "kernelspec": {
   "display_name": "Python 3",
   "language": "python",
   "name": "python3"
  },
  "language_info": {
   "codemirror_mode": {
    "name": "ipython",
    "version": 3
   },
   "file_extension": ".py",
   "mimetype": "text/x-python",
   "name": "python",
   "nbconvert_exporter": "python",
   "pygments_lexer": "ipython3",
   "version": "3.6.2"
  },
  "umich": {
   "id": "Assignment 4",
   "version": "1.1"
  }
 },
 "nbformat": 4,
 "nbformat_minor": 1
}
